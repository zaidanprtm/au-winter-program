{
  "nbformat": 4,
  "nbformat_minor": 0,
  "metadata": {
    "colab": {
      "name": "practice1",
      "provenance": [],
      "collapsed_sections": []
    },
    "kernelspec": {
      "name": "python3",
      "display_name": "Python 3"
    }
  },
  "cells": [
    {
      "cell_type": "code",
      "metadata": {
        "colab": {
          "base_uri": "https://localhost:8080/"
        },
        "id": "gUe11m7SJfrI",
        "outputId": "cc37ffa2-57d8-4c44-f587-93caf13f895d"
      },
      "source": [
        "# practice 1 anaconda, colab, python\r\n",
        "print(\"Halo, Everyone!\")\r\n",
        "print(\"My name is Zaidan Pratama\")\r\n",
        "print(\"Im so excited for this program\")"
      ],
      "execution_count": null,
      "outputs": [
        {
          "output_type": "stream",
          "text": [
            "Halo, Everyone!\n",
            "My name is Zaidan Pratama\n",
            "Im so excited for this program\n"
          ],
          "name": "stdout"
        }
      ]
    },
    {
      "cell_type": "code",
      "metadata": {
        "colab": {
          "base_uri": "https://localhost:8080/"
        },
        "id": "1czyyp8ROUDE",
        "outputId": "b15c8e9b-d313-4a8c-f1f1-a8853c6d8b1e"
      },
      "source": [
        "# practice 2 python operator\r\n",
        "print(10+5)"
      ],
      "execution_count": null,
      "outputs": [
        {
          "output_type": "stream",
          "text": [
            "15\n"
          ],
          "name": "stdout"
        }
      ]
    },
    {
      "cell_type": "code",
      "metadata": {
        "colab": {
          "base_uri": "https://localhost:8080/"
        },
        "id": "VduFa65WOsAu",
        "outputId": "631fcdba-838a-44aa-f9cb-77aeb0df4e06"
      },
      "source": [
        "# practice 3 & 5 about if and def\r\n",
        "def detectEven(x,y) :\r\n",
        "  out = \"\"\r\n",
        "  if x % 2 == 0 and y % 2 == 0 :\r\n",
        "    out = \"YY\"\r\n",
        "  elif x % 2 != 0 and y % 2 == 0:\r\n",
        "    out = \"NY\"\r\n",
        "  elif x % 2 == 0 and y % 2 != 0 :\r\n",
        "    out = \"YN\"\r\n",
        "  elif x % 2 != 0 and y % 2 != 0:\r\n",
        "    out = \"NN\"\r\n",
        "  return out\r\n",
        "\r\n",
        "print (detectEven(1,1))\r\n",
        "print (detectEven(1,2))\r\n",
        "print (detectEven(2,1))\r\n",
        "print (detectEven(2,2))\r\n",
        "\r\n",
        "print (detectEven(103,29802))\r\n",
        "print (detectEven(378,872))"
      ],
      "execution_count": null,
      "outputs": [
        {
          "output_type": "stream",
          "text": [
            "NN\n",
            "NY\n",
            "YN\n",
            "YY\n",
            "NY\n",
            "YY\n"
          ],
          "name": "stdout"
        }
      ]
    },
    {
      "cell_type": "code",
      "metadata": {
        "colab": {
          "base_uri": "https://localhost:8080/"
        },
        "id": "1KyvRwuiTJ0B",
        "outputId": "2cc166a1-3065-47b9-fbc7-057fa5f8282b"
      },
      "source": [
        "# practice 4 about looping\r\n",
        "numlist = [1,2,3,4,5,6,7,8,9]\r\n",
        "result = []\r\n",
        "for i in numlist:\r\n",
        "  if i % 2 != 0:\r\n",
        "    result.append(i)\r\n",
        "print(result)"
      ],
      "execution_count": null,
      "outputs": [
        {
          "output_type": "stream",
          "text": [
            "[1, 3, 5, 7, 9]\n"
          ],
          "name": "stdout"
        }
      ]
    },
    {
      "cell_type": "code",
      "metadata": {
        "colab": {
          "base_uri": "https://localhost:8080/",
          "height": 367
        },
        "id": "Qcnuim06kSv_",
        "outputId": "f0428532-5278-4913-b95a-fe99b294ee58"
      },
      "source": [
        "# rock paper scissors\r\n",
        "import guess\r\n",
        "player1 = guess.figure_guess()\r\n",
        "player2 = guess.figure_guess()\r\n",
        "print(player1)\r\n",
        "print(player2)\r\n",
        "\r\n",
        "if player1 == \"Rock\" :\r\n",
        "  if player2 == \"Rock\" :\r\n",
        "    print(\"Tie\")\r\n",
        "  elif player2 == \"Paper\" :\r\n",
        "    print(\"Player 2 win!\")\r\n",
        "  else :\r\n",
        "    print(\"Player 1 Win!\")\r\n",
        "elif player1 == \"Paper\" :\r\n",
        "  if player2 == \"Paper\" :\r\n",
        "    print(\"Tie\")\r\n",
        "  elif player2 == \"Scissors\" :\r\n",
        "    print(\"Player 2 win!\")\r\n",
        "  else :\r\n",
        "    print(\"Player 1 Win!\")\r\n",
        "else:\r\n",
        "  if player2 == \"Scissors\" :\r\n",
        "    print(\"Tie\")\r\n",
        "  elif player2 == \"Rock\" :\r\n",
        "    print(\"Player 2 win!\")\r\n",
        "  else :\r\n",
        "    print(\"Player 1 Win!\")\r\n",
        "\r\n"
      ],
      "execution_count": 26,
      "outputs": [
        {
          "output_type": "error",
          "ename": "ModuleNotFoundError",
          "evalue": "ignored",
          "traceback": [
            "\u001b[0;31m---------------------------------------------------------------------------\u001b[0m",
            "\u001b[0;31mModuleNotFoundError\u001b[0m                       Traceback (most recent call last)",
            "\u001b[0;32m<ipython-input-26-9431b2f975cd>\u001b[0m in \u001b[0;36m<module>\u001b[0;34m()\u001b[0m\n\u001b[1;32m      1\u001b[0m \u001b[0;31m# rock paper scissors\u001b[0m\u001b[0;34m\u001b[0m\u001b[0;34m\u001b[0m\u001b[0;34m\u001b[0m\u001b[0m\n\u001b[0;32m----> 2\u001b[0;31m \u001b[0;32mimport\u001b[0m \u001b[0mguess\u001b[0m\u001b[0;34m\u001b[0m\u001b[0;34m\u001b[0m\u001b[0m\n\u001b[0m\u001b[1;32m      3\u001b[0m \u001b[0mplayer1\u001b[0m \u001b[0;34m=\u001b[0m \u001b[0mguess\u001b[0m\u001b[0;34m.\u001b[0m\u001b[0mfigure_guess\u001b[0m\u001b[0;34m(\u001b[0m\u001b[0;34m)\u001b[0m\u001b[0;34m\u001b[0m\u001b[0;34m\u001b[0m\u001b[0m\n\u001b[1;32m      4\u001b[0m \u001b[0mplayer2\u001b[0m \u001b[0;34m=\u001b[0m \u001b[0mguess\u001b[0m\u001b[0;34m.\u001b[0m\u001b[0mfigure_guess\u001b[0m\u001b[0;34m(\u001b[0m\u001b[0;34m)\u001b[0m\u001b[0;34m\u001b[0m\u001b[0;34m\u001b[0m\u001b[0m\n\u001b[1;32m      5\u001b[0m \u001b[0mprint\u001b[0m\u001b[0;34m(\u001b[0m\u001b[0mplayer1\u001b[0m\u001b[0;34m)\u001b[0m\u001b[0;34m\u001b[0m\u001b[0;34m\u001b[0m\u001b[0m\n",
            "\u001b[0;31mModuleNotFoundError\u001b[0m: No module named 'guess'",
            "",
            "\u001b[0;31m---------------------------------------------------------------------------\u001b[0;32m\nNOTE: If your import is failing due to a missing package, you can\nmanually install dependencies using either !pip or !apt.\n\nTo view examples of installing some common dependencies, click the\n\"Open Examples\" button below.\n\u001b[0;31m---------------------------------------------------------------------------\u001b[0m\n"
          ]
        }
      ]
    },
    {
      "cell_type": "code",
      "metadata": {
        "id": "VEr7G1JbmJig"
      },
      "source": [
        ""
      ],
      "execution_count": null,
      "outputs": []
    }
  ]
}