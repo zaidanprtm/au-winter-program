{
  "nbformat": 4,
  "nbformat_minor": 0,
  "metadata": {
    "colab": {
      "name": "guess.pynb",
      "provenance": [],
      "collapsed_sections": []
    },
    "kernelspec": {
      "name": "python3",
      "display_name": "Python 3"
    }
  },
  "cells": [
    {
      "cell_type": "code",
      "metadata": {
        "id": "Jf4vJ9PujwdC"
      },
      "source": [
        "import random\r\n",
        "status = [\"Rock\", \"Paper\", \"Scissors\"]\r\n",
        "def figure_guess() :\r\n",
        "  return random.choice(status)"
      ],
      "execution_count": null,
      "outputs": []
    }
  ]
}